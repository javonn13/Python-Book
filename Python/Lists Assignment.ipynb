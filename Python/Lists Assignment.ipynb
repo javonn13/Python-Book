{
 "cells": [
  {
   "cell_type": "markdown",
   "metadata": {
    "collapsed": false
   },
   "source": [
    "# Lists Assignment"
   ]
  },
  {
   "cell_type": "markdown",
   "metadata": {
    "collapsed": false
   },
   "source": [
    "## Problem 1\n",
    "\n",
    "Convert the string \"Silent night, holy night\" to a list of characters, char_list. Then print char_list."
   ]
  },
  {
   "cell_type": "code",
   "execution_count": 26,
   "metadata": {
    "collapsed": false
   },
   "outputs": [
    {
     "name": "stdout",
     "output_type": "stream",
     "text": [
      "['S', 'i', 'l', 'e', 'n', 't', ' ', 'n', 'i', 'g', 'h', 't', ' ', \"'\", ',', \"'\", ' ', 'h', 'o', 'l', 'y', ' ', 'n', 'i', 'g', 'h', 't']\n"
     ]
    }
   ],
   "source": [
    "char_list = list(\"Silent night ',' holy night\")\n",
    "print (char_list)"
   ]
  },
  {
   "cell_type": "markdown",
   "metadata": {
    "collapsed": false
   },
   "source": [
    "## Problem 2\n",
    "Convert the string above to a list of words, word_list. Then print word_list. A word is defined as a sequence of non-blank characters.\n"
   ]
  },
  {
   "cell_type": "code",
   "execution_count": 28,
   "metadata": {
    "collapsed": false
   },
   "outputs": [
    {
     "name": "stdout",
     "output_type": "stream",
     "text": [
      "['Silent', 'night', ',', 'holy', 'night']\n"
     ]
    }
   ],
   "source": [
    "word_list = ['Silent' , 'night' , ',' , 'holy', 'night']\n",
    "print(word_list)"
   ]
  },
  {
   "cell_type": "markdown",
   "metadata": {
    "collapsed": false
   },
   "source": [
    "## Problem 3\n",
    "Extend word_list so that it also contains two more items, the words \"merry\" and \"Christmas\". Call the new list word_list_2. Print it."
   ]
  },
  {
   "cell_type": "code",
   "execution_count": 30,
   "metadata": {
    "collapsed": false
   },
   "outputs": [
   ],
   "source": [
    "#word_list_2 = ['Merry' \",\" 'Christmas']\n",
    "#print(word_list_2)"
   ]
  },
  {
   "cell_type": "code",
   "execution_count": 31,
   "metadata": {
    "collapsed": false
   },
   "outputs": [
   ],
   "source": [
    "#mainword_list = word_list + word_list_2\n",
    "#print (mainword_list)"
   ]
  },
  {
   "cell_type": "code",
   "execution_count": 40,
   "metadata": {
    "collapsed": false
   },
   "outputs": [
    {
     "name": "stdout",
     "output_type": "stream",
     "text": [
      "['Silent', 'night', ',', 'holy', 'night', 'merry', 'Christmas']\n"
     ]
    }
   ],
   "source": [
    "word_list = ['Silent', 'night' , ',', 'holy', 'night']\n",
    "word_list.extend(['merry', 'Christmas'])\n",
    "word_list2 = word_list\n",
    "print(word_list2)"
   ]
  },
  {
   "cell_type": "markdown",
   "metadata": {
    "collapsed": false
   },
   "source": [
    "## Problem 4\n",
    "Modify word_list_2 by emoving the \"word\" which contains a comma. Print this list.\n"
   ]
  },
  {
   "cell_type": "code",
   "execution_count": 41,
   "metadata": {
    "collapsed": false
   },
   "outputs": [
    {
     "name": "stdout",
     "output_type": "stream",
     "text": [
      "['Silent', 'night', 'holy', 'night', 'merry', 'Christmas']\n"
     ]
    }
   ],
   "source": [
    "word_list.remove(\",\")\n",
    "print(word_list)"
   ]
  },
  {
   "cell_type": "markdown",
   "metadata": {
    "collapsed": false
   },
   "source": [
    "## Problem 5\n",
    "\n",
    "Sometimes we would like to preserve an original list before we modify it in some way. As an example, suppose we have list_1, which contains the letters A, B, C and D.  We want to hold onto this list and also have a new list, list_2, which contains the letter X inserted between B and C, in addition to the original members of list_1. The following code looks like it should work. In the markdown cell following the code, explain what happened. "
   ]
  },
  {
   "cell_type": "code",
   "execution_count": 4,
   "metadata": {
    "collapsed": false
   },
   "outputs": [
    {
     "name": "stdout",
     "output_type": "stream",
     "text": [
      "['A', 'B', 'X', 'C', 'D']\n",
      "['A', 'B', 'X', 'C', 'D']\n"
     ]
    }
   ],
   "source": [
    "# Create list_1\n",
    "list_1 = [\"A\",\"B\",\"C\",\"D\"]\n",
    "\n",
    "# Make a copy in list_2\n",
    "list_2 = list_1\n",
    "\n",
    "# Modify list_2\n",
    "list_2.insert(2,\"X\")\n",
    "\n",
    "# Check list_2\n",
    "print(list_2)\n",
    "\n",
    "# Check list_1\n",
    "print(list_1)"
   ]
  },
  {
   "cell_type": "markdown",
   "metadata": {
    "collapsed": false
   },
   "source": [
    "## Answer to Problem 5\n",
    "\n",
    "Explain what happened.\n",
    "\n"
   ]
  },
  {
   "cell_type": "code",
   "execution_count": 0,
   "metadata": {
    "collapsed": false
   },
   "outputs": [
   ],
   "source": [
    "# Create list_1\n",
    "list_1 = [\"A\",\"B\",\"C\",\"D\"]\n",
    "##A list called list_1 was created containing the letters of A, B, C, and D\n",
    "\n",
    "# Make a copy in list_2\n",
    "list_2 = list_1\n",
    "## List_1 which carries the letters of A, B, C, and D assigned and stored in list_2\n",
    "\n",
    "# Modify list_2\n",
    "list_2.insert(2,\"X\")\n",
    "## X is now inserted into list_2 between B and C due to the input of order we told the progran which is 2 \n",
    "\n",
    "# Check list_2\n",
    "print(list_2)\n",
    "## list_2 will print the output to be A, B, X, C, D\n",
    "\n",
    "# Check list_1\n",
    "print(list_1)\n",
    "## list_1 will print the output to be A, B, X, C, D due to it being assigned and stored from earlier\n"
   ]
  },
  {
   "cell_type": "markdown",
   "metadata": {
    "collapsed": false
   },
   "source": [
    "## Problem 6\n",
    "\n",
    "Modify the code in Problem 5 so that it works."
   ]
  },
  {
   "cell_type": "code",
   "execution_count": 42,
   "metadata": {
    "collapsed": false
   },
   "outputs": [
    {
     "name": "stdout",
     "output_type": "stream",
     "text": [
      "['A', 'B', 'X', 'C', 'D']\n",
      "['A', 'B', 'X', 'C', 'D']\n"
     ]
    }
   ],
   "source": [
    "list_1 = [\"A\",\"B\",\"C\",\"D\"]\n",
    "list_2 = list_1\n",
    "list_2.insert(2,\"X\")\n",
    "print(list_2)\n",
    "print(list_1)\n"
   ]
  },
  {
   "cell_type": "code",
   "execution_count": 0,
   "metadata": {
    "collapsed": false
   },
   "outputs": [
   ],
   "source": [
   ]
  }
 ],
 "metadata": {
  "kernelspec": {
   "display_name": "Python 3 (system-wide)",
   "language": "python",
   "metadata": {
    "cocalc": {
     "description": "Python 3 programming language",
     "priority": 100,
     "url": "https://www.python.org/"
    }
   },
   "name": "python3",
   "resource_dir": "/ext/jupyter/kernels/python3"
  },
  "language_info": {
   "codemirror_mode": {
    "name": "ipython",
    "version": 3
   },
   "file_extension": ".py",
   "mimetype": "text/x-python",
   "name": "python",
   "nbconvert_exporter": "python",
   "pygments_lexer": "ipython3",
   "version": "3.8.5"
  }
 },
 "nbformat": 4,
 "nbformat_minor": 4
}